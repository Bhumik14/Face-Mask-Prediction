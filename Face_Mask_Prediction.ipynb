{
 "cells": [
  {
   "cell_type": "code",
   "execution_count": 1,
   "id": "059dc685-01bc-4b92-bfb9-cd57bc0eda18",
   "metadata": {},
   "outputs": [
    {
     "name": "stdout",
     "output_type": "stream",
     "text": [
      "Dataset URL: https://www.kaggle.com/datasets/omkargurav/face-mask-dataset\n",
      "License(s): unknown\n",
      "Downloading face-mask-dataset.zip to /home/bhumik/Desktop/Projects/Face Mask Detection\n",
      "100%|███████████████████████████████████████▉| 163M/163M [00:26<00:00, 9.84MB/s]\n",
      "100%|████████████████████████████████████████| 163M/163M [00:26<00:00, 6.45MB/s]\n"
     ]
    }
   ],
   "source": [
    "#!/bin/bash\n",
    "!kaggle datasets download omkargurav/face-mask-dataset"
   ]
  },
  {
   "cell_type": "markdown",
   "id": "065e0bb9-462b-424b-ab20-9002307a43c2",
   "metadata": {},
   "source": [
    "### Importing Neccessary Libraries"
   ]
  },
  {
   "cell_type": "code",
   "execution_count": 6,
   "id": "ad58026b-eb48-4b86-a296-6de9672cfcc8",
   "metadata": {},
   "outputs": [],
   "source": [
    "import numpy as np\n",
    "import tensorflow as tf\n",
    "from tensorflow import keras\n",
    "import matplotlib.pyplot as plt\n",
    "from tensorflow.keras.preprocessing.image import ImageDataGenerator"
   ]
  },
  {
   "cell_type": "markdown",
   "id": "61b582bc-86a2-467e-91b7-6237204da31c",
   "metadata": {},
   "source": [
    "### Split Data into Train & Test Dataset"
   ]
  },
  {
   "cell_type": "code",
   "execution_count": 16,
   "id": "136c2c6e-259a-4e3c-a0c3-26a12589894c",
   "metadata": {},
   "outputs": [
    {
     "name": "stdout",
     "output_type": "stream",
     "text": [
      "Images have been successfully moved to train and test directories.\n"
     ]
    }
   ],
   "source": [
    "import os\n",
    "import shutil\n",
    "from sklearn.model_selection import train_test_split\n",
    "\n",
    "# Paths for original dataset\n",
    "with_mask_dir = './face-mask-dataset/data/with_mask/'\n",
    "without_mask_dir = './face-mask-dataset/data/without_mask/'\n",
    "\n",
    "# Define train/test directories\n",
    "train_dir = './face-mask-dataset/data/train'\n",
    "test_dir = './face-mask-dataset/data/test'\n",
    "\n",
    "# Create train/test directories if they don't exist\n",
    "os.makedirs(os.path.join(train_dir, 'with_mask'), exist_ok=True)\n",
    "os.makedirs(os.path.join(train_dir, 'without_mask'), exist_ok=True)\n",
    "os.makedirs(os.path.join(test_dir, 'with_mask'), exist_ok=True)\n",
    "os.makedirs(os.path.join(test_dir, 'without_mask'), exist_ok=True)\n",
    "\n",
    "# Split with_mask images\n",
    "images_w_mask = os.listdir(with_mask_dir)\n",
    "train_images, test_images = train_test_split(images_w_mask, test_size=0.2, random_state=1)\n",
    "\n",
    "# Split without_mask images\n",
    "images_wo_mask = os.listdir(without_mask_dir)\n",
    "train_images1, test_images1 = train_test_split(images_wo_mask, test_size=0.2, random_state=1)\n",
    "\n",
    "# Move images into train/test folders\n",
    "for image in train_images:\n",
    "    shutil.move(os.path.join(with_mask_dir, image), os.path.join(train_dir, 'with_mask', image))\n",
    "for image in test_images:\n",
    "    shutil.move(os.path.join(with_mask_dir, image), os.path.join(test_dir, 'with_mask', image))\n",
    "\n",
    "for image in train_images1:\n",
    "    shutil.move(os.path.join(without_mask_dir, image), os.path.join(train_dir, 'without_mask', image))\n",
    "for image in test_images1:\n",
    "    shutil.move(os.path.join(without_mask_dir, image), os.path.join(test_dir, 'without_mask', image))\n",
    "\n",
    "print(\"Images have been successfully moved to train and test directories.\")\n"
   ]
  },
  {
   "cell_type": "markdown",
   "id": "aece369a-f55c-40ab-bdfb-4953fbf57d6a",
   "metadata": {},
   "source": [
    "### Processing Images"
   ]
  },
  {
   "cell_type": "code",
   "execution_count": 17,
   "id": "2f8f3951-4a6f-49d9-b5bf-e5876168411f",
   "metadata": {},
   "outputs": [
    {
     "name": "stdout",
     "output_type": "stream",
     "text": [
      "Found 6042 images belonging to 2 classes.\n",
      "Found 1511 images belonging to 2 classes.\n"
     ]
    }
   ],
   "source": [
    "from tensorflow.keras.preprocessing.image import ImageDataGenerator\n",
    "\n",
    "train_datagen = ImageDataGenerator(\n",
    "    rescale=1./255,\n",
    "    rotation_range=15,\n",
    "    zoom_range=0.2,\n",
    "    width_shift_range=0.2,\n",
    "    height_shift_range=0.2\n",
    ")\n",
    "\n",
    "test_datagen = ImageDataGenerator(\n",
    "    rescale=1./255\n",
    ")\n",
    "\n",
    "train_generator = train_datagen.flow_from_directory(\n",
    "    train_dir,          \n",
    "    target_size=(128, 128),\n",
    "    batch_size=32,\n",
    "    class_mode='binary',  \n",
    ")\n",
    "\n",
    "# Load testing data\n",
    "test_generator = test_datagen.flow_from_directory(\n",
    "    test_dir,            \n",
    "    target_size=(128, 128),\n",
    "    batch_size=32,\n",
    "    class_mode='binary',  \n",
    ")"
   ]
  },
  {
   "cell_type": "markdown",
   "id": "718dc090-9db6-4a79-acf0-e6fa23bcdce7",
   "metadata": {},
   "source": [
    "### Building CNN Model"
   ]
  },
  {
   "cell_type": "code",
   "execution_count": 28,
   "id": "b55dc6ea-2e98-4b5d-9750-20971d09a955",
   "metadata": {},
   "outputs": [],
   "source": [
    "model = keras.Sequential([\n",
    "    keras.layers.Input(shape=(128,128,3)),\n",
    "    keras.layers.Conv2D(32, kernel_size=(3,3), activation='relu'),\n",
    "    keras.layers.MaxPooling2D(pool_size=(2,2)),\n",
    "\n",
    "    keras.layers.Conv2D(64, kernel_size=(3,3), activation='relu'),\n",
    "    keras.layers.MaxPooling2D(pool_size=(2,2)),\n",
    "\n",
    "    keras.layers.Flatten(),\n",
    "    keras.layers.Dense(128, activation='relu'),\n",
    "    keras.layers.Dropout(0.2),\n",
    "\n",
    "    keras.layers.Dense(64, activation='relu'),\n",
    "    keras.layers.Dropout(0.2),\n",
    "\n",
    "    keras.layers.Dense(1, activation='sigmoid')\n",
    "    \n",
    "    \n",
    "])\n",
    "model.compile(\n",
    "    optimizer='adam',\n",
    "    loss='binary_crossentropy',\n",
    "    metrics=['accuracy']\n",
    ")"
   ]
  },
  {
   "cell_type": "code",
   "execution_count": 32,
   "id": "4c1319bc-7223-4651-a3b0-6011840dba1d",
   "metadata": {},
   "outputs": [
    {
     "name": "stdout",
     "output_type": "stream",
     "text": [
      "Epoch 1/10\n",
      "\u001b[1m189/189\u001b[0m \u001b[32m━━━━━━━━━━━━━━━━━━━━\u001b[0m\u001b[37m\u001b[0m \u001b[1m21s\u001b[0m 109ms/step - accuracy: 0.8890 - loss: 0.2725\n",
      "Epoch 2/10\n",
      "\u001b[1m189/189\u001b[0m \u001b[32m━━━━━━━━━━━━━━━━━━━━\u001b[0m\u001b[37m\u001b[0m \u001b[1m20s\u001b[0m 103ms/step - accuracy: 0.9018 - loss: 0.2476\n",
      "Epoch 3/10\n",
      "\u001b[1m189/189\u001b[0m \u001b[32m━━━━━━━━━━━━━━━━━━━━\u001b[0m\u001b[37m\u001b[0m \u001b[1m20s\u001b[0m 108ms/step - accuracy: 0.9094 - loss: 0.2347\n",
      "Epoch 4/10\n",
      "\u001b[1m189/189\u001b[0m \u001b[32m━━━━━━━━━━━━━━━━━━━━\u001b[0m\u001b[37m\u001b[0m \u001b[1m19s\u001b[0m 102ms/step - accuracy: 0.9033 - loss: 0.2279\n",
      "Epoch 5/10\n",
      "\u001b[1m189/189\u001b[0m \u001b[32m━━━━━━━━━━━━━━━━━━━━\u001b[0m\u001b[37m\u001b[0m \u001b[1m20s\u001b[0m 107ms/step - accuracy: 0.9300 - loss: 0.2050\n",
      "Epoch 6/10\n",
      "\u001b[1m189/189\u001b[0m \u001b[32m━━━━━━━━━━━━━━━━━━━━\u001b[0m\u001b[37m\u001b[0m \u001b[1m20s\u001b[0m 105ms/step - accuracy: 0.9289 - loss: 0.1911\n",
      "Epoch 7/10\n",
      "\u001b[1m189/189\u001b[0m \u001b[32m━━━━━━━━━━━━━━━━━━━━\u001b[0m\u001b[37m\u001b[0m \u001b[1m20s\u001b[0m 103ms/step - accuracy: 0.9187 - loss: 0.2094\n",
      "Epoch 8/10\n",
      "\u001b[1m189/189\u001b[0m \u001b[32m━━━━━━━━━━━━━━━━━━━━\u001b[0m\u001b[37m\u001b[0m \u001b[1m20s\u001b[0m 104ms/step - accuracy: 0.9374 - loss: 0.1644\n",
      "Epoch 9/10\n",
      "\u001b[1m189/189\u001b[0m \u001b[32m━━━━━━━━━━━━━━━━━━━━\u001b[0m\u001b[37m\u001b[0m \u001b[1m21s\u001b[0m 113ms/step - accuracy: 0.9351 - loss: 0.1772\n",
      "Epoch 10/10\n",
      "\u001b[1m189/189\u001b[0m \u001b[32m━━━━━━━━━━━━━━━━━━━━\u001b[0m\u001b[37m\u001b[0m \u001b[1m20s\u001b[0m 106ms/step - accuracy: 0.9386 - loss: 0.1697\n"
     ]
    },
    {
     "data": {
      "text/plain": [
       "<keras.src.callbacks.history.History at 0x78d0081089e0>"
      ]
     },
     "execution_count": 32,
     "metadata": {},
     "output_type": "execute_result"
    }
   ],
   "source": [
    "model.fit(train_generator, epochs=10)"
   ]
  },
  {
   "cell_type": "markdown",
   "id": "6ea9c830-3a4c-4e4e-88cc-cc90745a6321",
   "metadata": {},
   "source": [
    "### Evaluating Model & Saving Model"
   ]
  },
  {
   "cell_type": "code",
   "execution_count": 34,
   "id": "82b6ef5c-e70a-482f-a495-ca1db746c054",
   "metadata": {},
   "outputs": [
    {
     "name": "stdout",
     "output_type": "stream",
     "text": [
      "\u001b[1m48/48\u001b[0m \u001b[32m━━━━━━━━━━━━━━━━━━━━\u001b[0m\u001b[37m\u001b[0m \u001b[1m2s\u001b[0m 46ms/step - accuracy: 0.9517 - loss: 0.1217\n"
     ]
    },
    {
     "data": {
      "text/plain": [
       "[0.11477652937173843, 0.9530112743377686]"
      ]
     },
     "execution_count": 34,
     "metadata": {},
     "output_type": "execute_result"
    }
   ],
   "source": [
    "model.evaluate(test_generator)"
   ]
  },
  {
   "cell_type": "code",
   "execution_count": 38,
   "id": "665e3c1c-4b09-4f32-8fa4-5d0d2b4b1597",
   "metadata": {},
   "outputs": [],
   "source": [
    "model.save(\"path_to_model/Face_Mask_Prediction_model.keras\")"
   ]
  },
  {
   "cell_type": "markdown",
   "id": "3197ea8e-96c2-4539-b1f9-7bfc0c753e07",
   "metadata": {},
   "source": [
    "### Building Predictive System"
   ]
  },
  {
   "cell_type": "code",
   "execution_count": 40,
   "id": "dc65cd59-1ef2-44c1-a7f3-34916fe4a1d1",
   "metadata": {},
   "outputs": [],
   "source": [
    "from tensorflow.keras.models import load_model\n",
    "\n",
    "model = load_model('path_to_model/Face_Mask_Prediction_model.keras')"
   ]
  },
  {
   "cell_type": "code",
   "execution_count": 62,
   "id": "3e15fd5e-848c-4756-8421-6cceaf9260da",
   "metadata": {},
   "outputs": [
    {
     "name": "stdout",
     "output_type": "stream",
     "text": [
      "Image loaded successfully.\n",
      "\u001b[1m1/1\u001b[0m \u001b[32m━━━━━━━━━━━━━━━━━━━━\u001b[0m\u001b[37m\u001b[0m \u001b[1m0s\u001b[0m 24ms/step\n",
      "Person is Wearing Mask\n"
     ]
    }
   ],
   "source": [
    "from tensorflow.keras.preprocessing import image\n",
    "import numpy as np\n",
    "\n",
    "# Load and preprocess the image\n",
    "input_img = 'face-mask-dataset/data/test/with_mask/with_mask_1006.jpg'\n",
    "img = image.load_img(input_img)\n",
    "\n",
    "if img is None:\n",
    "    print(\"Error: Image could not be loaded.\")\n",
    "else:\n",
    "    print(\"Image loaded successfully.\")\n",
    "\n",
    "img = img.resize((128, 128))\n",
    "\n",
    "img = image.img_to_array(img)\n",
    "\n",
    "img = img / 255.0 \n",
    "\n",
    "img = np.expand_dims(img, axis=0)\n",
    "\n",
    "\n",
    "# Make the prediction\n",
    "result = model.predict(img)\n",
    "\n",
    "# Interpret the result\n",
    "if result <0.5:\n",
    "    print('Person is Wearing Mask')\n",
    "else:\n",
    "    print('Person is Not Wearing Mask')\n",
    "\n",
    "\n"
   ]
  },
  {
   "cell_type": "code",
   "execution_count": null,
   "id": "86063136-f34a-46a7-962f-8f256bb5c75c",
   "metadata": {},
   "outputs": [],
   "source": []
  },
  {
   "cell_type": "code",
   "execution_count": null,
   "id": "081a9da3-08dc-44dd-8856-ba4636b6fd0c",
   "metadata": {},
   "outputs": [],
   "source": []
  }
 ],
 "metadata": {
  "kernelspec": {
   "display_name": "Python 3 (ipykernel)",
   "language": "python",
   "name": "python3"
  },
  "language_info": {
   "codemirror_mode": {
    "name": "ipython",
    "version": 3
   },
   "file_extension": ".py",
   "mimetype": "text/x-python",
   "name": "python",
   "nbconvert_exporter": "python",
   "pygments_lexer": "ipython3",
   "version": "3.12.7"
  }
 },
 "nbformat": 4,
 "nbformat_minor": 5
}
